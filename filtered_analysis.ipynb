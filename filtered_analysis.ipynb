{
 "cells": [
  {
   "cell_type": "code",
   "execution_count": 81,
   "metadata": {},
   "outputs": [
    {
     "name": "stdout",
     "output_type": "stream",
     "text": [
      "Requirement already satisfied: pydicom in /Users/davideserra/opt/anaconda3/lib/python3.9/site-packages (2.4.4)\n",
      "Requirement already satisfied: pylibjpeg in /Users/davideserra/opt/anaconda3/lib/python3.9/site-packages (2.0.1)\n",
      "Requirement already satisfied: SimpleITK in /Users/davideserra/opt/anaconda3/lib/python3.9/site-packages (2.3.1)\n",
      "Requirement already satisfied: numpy in /Users/davideserra/opt/anaconda3/lib/python3.9/site-packages (1.24.3)\n",
      "Requirement already satisfied: pillow in /Users/davideserra/opt/anaconda3/lib/python3.9/site-packages (9.2.0)\n"
     ]
    }
   ],
   "source": [
    "!pip install pydicom pylibjpeg SimpleITK numpy pillow"
   ]
  },
  {
   "cell_type": "code",
   "execution_count": 82,
   "metadata": {},
   "outputs": [],
   "source": [
    "'**********************************************************************************************************************'\n",
    "'This file contains the automatic method for epicardial fat segmentation'\n",
    "'**********************************************************************************************************************'\n",
    "import numpy as np\n",
    "import cv2 as cv\n",
    "from skimage.morphology import convex_hull_image\n",
    "\n",
    "#MY FUNCTIONS\n",
    "from algorithm.basicOperations import convert_image_to_rgb, add_images, otsu_mask, connect_components, segmentation, opening\n",
    "from algorithm.findTemplate import find_template_sternal, find_template_spine, cut_image_from_top, cut_image_from_bottom\n",
    "from algorithm.loadScan import load_scan\n",
    "from algorithm.getPixelsHU import get_pixels_hu\n",
    "from algorithm.pericardiumDelineation import pericardium_3points, ellipse, redefined_mask\n",
    "from algorithm.contourAnalysis import draw_contours, moment\n",
    "from algorithm.discardSlices import doTouchInMargin, countDiscardSlices\n",
    "from algorithm.thrSegmentation import thrSegmentation\n",
    "from algorithm.volume import volume\n",
    "from algorithm.plot3D import plot_3d\n",
    "from algorithm.sampleStack import sample_stack\n"
   ]
  },
  {
   "cell_type": "code",
   "execution_count": 215,
   "metadata": {},
   "outputs": [],
   "source": [
    "def segmentEpicardialFat(DICOM_DATASET = 'path/dicom_file.dcm', OUTPUT_FOLDER='aux_img/'):\n",
    "    'Select the patient dataset'\n",
    "    patient = load_scan(DICOM_DATASET)\n",
    "\n",
    "    'Thickness and pixel spacing'\n",
    "    thickness = patient[0].SliceThickness\n",
    "    print(thickness)\n",
    "    px_spacing = patient[0].PixelSpacing[0]\n",
    "    print(px_spacing)\n",
    "    patient_id = patient[0].PatientID\n",
    "    print(patient_id)\n",
    "    no_slices = len(patient)\n",
    "    print(no_slices)\n",
    "\n",
    "    'Get image in HU scale'\n",
    "    patients_hu = get_pixels_hu(patient)\n",
    "\n",
    "    'Constants'\n",
    "    WIDTH = patients_hu[0].shape[0]\n",
    "    HEIGHT = patients_hu[0].shape[1]\n",
    "    MID_HEIGHT = int(HEIGHT / 2)\n",
    "    print(WIDTH, HEIGHT, MID_HEIGHT)\n",
    "\n",
    "    ### CONSTANTS\n",
    "    MAX_FAT = -30\n",
    "    MIN_FAT = -200\n",
    "\n",
    "    ### PRE-PROCESSING\n",
    "    median = np.stack([cv.medianBlur(patient, 5) for patient in patients_hu])\n",
    "    ### 1. ROI SELECTION\n",
    "    'Matching template to detect sternal and spine'\n",
    "    template_sternal = cv.imread('resources/template_sternum.png')\n",
    "    template_spine = cv.imread('resources/template_spine.png')\n",
    "\n",
    "    'Convert imagens to rgb channels'\n",
    "    images_png = np.stack([convert_image_to_rgb(dicom, f'slices/{patient_id}_{i}', OUTPUT_FOLDER) for dicom, i in zip(median, range(0,no_slices))])\n",
    "\n",
    "    top_points = find_template_sternal(images_png, template_sternal, method='cv.TM_CCOEFF_NORMED')[1]\n",
    "    bottom_points = find_template_spine(images_png, template_spine, method='cv.TM_CCOEFF_NORMED')[0]\n",
    "\n",
    "    'Remove the lungs'\n",
    "    remove_lung_mask = np.stack([otsu_mask(patient) for patient in median])\n",
    "\n",
    "    'Remove torax'\n",
    "    remove_torax_mask = np.stack([cut_image_from_top(slice, point[1], WIDTH, y_reject=0) for slice, point in\n",
    "                                  zip(remove_lung_mask, top_points)])\n",
    "\n",
    "    'Remove spine'\n",
    "    remove_spine_mask = np.stack(\n",
    "        [cut_image_from_bottom(slice, MID_HEIGHT + point[1], WIDTH, y_reject=MID_HEIGHT) for slice, point in\n",
    "         zip(remove_torax_mask, bottom_points)])\n",
    "\n",
    "    ### 2. HEART ROI\n",
    "    'Find contours with ellipse morphology'\n",
    "    contours = np.stack([draw_contours(img.astype(np.uint8)) for img in remove_spine_mask])\n",
    "\n",
    "    'Selection of the bigger component regarding the component with the heart'\n",
    "    bigger_component = np.stack([connect_components(mask) for mask in contours])\n",
    "\n",
    "    'Apply masks of ROI to segmentate the heart'\n",
    "    masks = np.stack([contour > 0 for contour in bigger_component])\n",
    "    heart = np.stack([segmentation(i, m) for i, m in zip(patients_hu, masks)])\n",
    "\n",
    "    ### 3. PERICARDIUM DELIMITATION\n",
    "    # -44 a 18 HU\n",
    "    'Pericardium thresholding'\n",
    "    pericardium_mask = np.stack([thrSegmentation(r, -44, -1) for r in heart])\n",
    "    'Get pericardium contour'\n",
    "    pericardium_contour = np.stack([convex_hull_image(mask) for mask in pericardium_mask])\n",
    "    pericardium_opening = np.stack([opening(mask) for mask in pericardium_contour])\n",
    "\n",
    "    'Redefine ROI of heart'\n",
    "    new_contours = np.stack([contour > 0 for contour in pericardium_opening])\n",
    "\n",
    "    'Discard slices that touch left or right margins'\n",
    "    processed_slices = np.stack([doTouchInMargin(slice) for slice in new_contours])\n",
    "    discard_slices = countDiscardSlices(processed_slices)\n",
    "\n",
    "    'Convert imagens to rgb channels'\n",
    "    np.stack([convert_image_to_rgb(cnt, f'contours/{patient_id}_{i}_c', OUTPUT_FOLDER) for cnt, i in zip(processed_slices, range(0,no_slices))])\n",
    "\n",
    "    'Discard slices that touch left or right margins'\n",
    "    new_masks = np.stack([contour > 0 for contour in processed_slices])\n",
    "    new_heart = np.stack([segmentation(i, m) for i, m in zip(patients_hu, new_masks)])\n",
    "\n",
    "    ### 4. EAT SEGMENTATION\n",
    "    'Fat thresholding'\n",
    "    fat_masks = np.stack([thrSegmentation(r, MIN_FAT, MAX_FAT) for r in new_heart])\n",
    "\n",
    "    'To show the final result of segmentation'\n",
    "    np.stack([convert_image_to_rgb(mask, f'fat/{patient_id}_{i}_fat', OUTPUT_FOLDER) for mask, i in zip(fat_masks, range(0, no_slices))])\n",
    "\n",
    "    'Add slice image with segmentation mask'\n",
    "    combined_images = np.stack([add_images(m, img) for m, img in zip(fat_masks, images_png)])\n",
    "\n",
    "    'Save image with segmentation enhanced'\n",
    "    np.stack([convert_image_to_rgb(img, f'combined/{patient_id}_{i}_combined', OUTPUT_FOLDER) for img, i in zip(combined_images, range(0,no_slices))])\n",
    "\n",
    "    ### 6. VOLUME CALCULATION\n",
    "    vol = volume(fat_masks, thickness, px_spacing)\n",
    "\n",
    "    return patient_id, no_slices, vol\n",
    "\n"
   ]
  },
  {
   "cell_type": "code",
   "execution_count": 232,
   "metadata": {},
   "outputs": [],
   "source": [
    "import SimpleITK as sitk\n",
    "import os\n",
    "\n",
    "def dicom_to_nifti(input_dicom, output_dicom_dir, write_nifti=False):\n",
    "    input_dicom = \"/Users/davideserra/Documents/Python383/HARTA-main/ScalarVolume_7\"\n",
    "    output_dicom_dir = './'\n",
    "    # create the folder output_dicom_dir\n",
    "    series_IDs = sitk.ImageSeriesReader.GetGDCMSeriesIDs(input_dicom)\n",
    "    if not series_IDs:\n",
    "        print(\"ERROR: given directory \\\"\" + input_dicom + \"\\\" does not contain a valid DICOM series.\")\n",
    "\n",
    "    itk_images = []\n",
    "    filenames = []\n",
    "    for i in range(0,len(series_IDs)):\n",
    "        series_file_names = sitk.ImageSeriesReader.GetGDCMSeriesFileNames(input_dicom, series_IDs[i])\n",
    "        filenames.append(series_file_names)\n",
    "        series_reader = sitk.ImageSeriesReader()\n",
    "        series_reader.SetFileNames(series_file_names)\n",
    "        series_reader.MetaDataDictionaryArrayUpdateOn()\n",
    "        series_reader.LoadPrivateTagsOn()\n",
    "        image_dicom = series_reader.Execute()\n",
    "\n",
    "        itk_images.append(image_dicom)\n",
    "        if write_nifti:\n",
    "            sitk.WriteImage(image_dicom, os.path.join(output_dicom_dir, series_IDs[i] + \".nii.gz\"))\n",
    "\n",
    "    return itk_images, filenames"
   ]
  },
  {
   "cell_type": "code",
   "execution_count": 235,
   "metadata": {},
   "outputs": [
    {
     "name": "stdout",
     "output_type": "stream",
     "text": [
      "0.5\n",
      ".435546875\n",
      "OSPMBG\n",
      "275\n",
      "512 512 256\n",
      "(275, 512, 512)\n",
      "(275, 512, 512)\n",
      "(275, 512, 512)\n",
      "✅ Salvato file NIfTI 3D: patient8_EAT.nii.gz\n"
     ]
    }
   ],
   "source": [
    "import os\n",
    "import numpy as np\n",
    "import SimpleITK as sitk\n",
    "from PIL import Image\n",
    "import re\n",
    "\n",
    "input_dicom_path = \"/Users/davideserra/Documents/Python383/HARTA-main/ScalarVolume_7\"\n",
    "output_dicom_dir = './'\n",
    "\n",
    "patient_id, no_slices, vol = segmentEpicardialFat(DICOM_DATASET = input_dicom_path,\n",
    "                                                  OUTPUT_FOLDER=output_dicom_dir)\n",
    "\n",
    "# 📂 Cartella con immagini PNG\n",
    "input_folder = \"/Users/davideserra/Documents/Python383/HARTA-main/fat\"\n",
    "#output_file = \"patient8_EAT.nii.gz\"\n",
    "\n",
    "def extract_number(filename):\n",
    "    match = re.search(r'OSPMBG_(\\d+)_fat', filename)\n",
    "    return int(match.group(1)) if match else -1\n",
    "\n",
    "# 📥 Ordina e carica le immagini (assumiamo nomi ordinabili alfabeticamente)\n",
    "image_files = sorted(\n",
    "    [os.path.join(input_folder, f) for f in os.listdir(input_folder) if f.endswith(\".png\") and \"OSPMBG_\" in f],\n",
    "    key=lambda f: extract_number(os.path.basename(f))\n",
    ")\n",
    "\n",
    "# 📊 Carica le immagini in array NumPy\n",
    "slices = []\n",
    "for filename in image_files:\n",
    "    img = Image.open(filename).convert(\"L\")  # \"L\" = scala di grigi\n",
    "    img_arr = np.array(img)\n",
    "    img_arr = np.where(img_arr == 255, 1, 0)\n",
    "    slices.append(img_arr)\n",
    "\n",
    "# 🧊 Stack lungo l'asse Z → (depth, height, width)\n",
    "volume_array = np.stack(slices, axis=0)\n",
    "print(volume_array.shape)\n",
    "\n",
    "\n",
    "# 🔄 Converti in SimpleITK Image (NIfTI vuole (x, y, z))\n",
    "volume_array = volume_array.astype(np.uint8)  # o .astype(np.int16) se necessario\n",
    "print(volume_array.shape)\n",
    "# volume_array = np.transpose(volume_array, (2, 1, 0))\n",
    "print(volume_array.shape)\n",
    "# volume_array = np.flip(volume_array, axis=0)\n",
    "# volume_array = np.flip(volume_array, axis=1)\n",
    "volume_sitk = sitk.GetImageFromArray(volume_array)\n",
    "\n",
    "images, _ = dicom_to_nifti(input_dicom=input_dicom_path, \n",
    "                                   output_dicom_dir=output_dicom_dir,\n",
    "                                   write_nifti=False)\n",
    "\n",
    "ct = images[0]\n",
    "# filename = filenames[0]\n",
    "#\n",
    "#ct = sitk.ReadImage(\"/Users/davideserra/Documents/Python383/HARTA-main/8.nii.gz\")\n",
    "\n",
    "\n",
    "# ℹ️ (opzionale) Aggiungi informazioni di spacing\n",
    "# volume_sitk.SetSpacing([1.0, 1.0, 1.0])  # pixel spacing in mm (x, y, z)\n",
    "volume_sitk.CopyInformation(ct)\n",
    "# volume_sitk.SetSpacing(ct.GetSpacing())\n",
    "# volume_sitk.SetOrigin(ct.GetOrigin())\n",
    "# volume_sitk.SetDirection(ct.GetDirection())\n",
    "\n",
    "# volume_sitk.SetSpacing( (1.0, 0.435546875, 0.435546875))\n",
    "# volume_sitk.SetOrigin((-63.2822, -317.282, -302.125))\n",
    "# volume_sitk.SetDirection((1.0, 0.0, 0.0, 0.0, 1.0, 0.0, 0.0, 0.0, 1.0))\n",
    "\n",
    "output_file = \"patient8_EAT.nii.gz\"\n",
    "\n",
    "# 💾 Salva come .nii.gz\n",
    "sitk.WriteImage(volume_sitk, output_file, True)\n",
    "\n",
    "print(f\"✅ Salvato file NIfTI 3D: {output_file}\")\n"
   ]
  },
  {
   "cell_type": "code",
   "execution_count": 209,
   "metadata": {},
   "outputs": [
    {
     "data": {
      "text/plain": [
       "(275, 512, 512)"
      ]
     },
     "execution_count": 209,
     "metadata": {},
     "output_type": "execute_result"
    }
   ],
   "source": [
    "np.stack(slices).shape"
   ]
  },
  {
   "cell_type": "code",
   "execution_count": 199,
   "metadata": {},
   "outputs": [
    {
     "data": {
      "text/plain": [
       "(512, 512, 275)"
      ]
     },
     "execution_count": 199,
     "metadata": {},
     "output_type": "execute_result"
    }
   ],
   "source": [
    "volume_array.shape"
   ]
  },
  {
   "cell_type": "code",
   "execution_count": 192,
   "metadata": {},
   "outputs": [
    {
     "data": {
      "text/plain": [
       "(512, 512, 275)"
      ]
     },
     "execution_count": 192,
     "metadata": {},
     "output_type": "execute_result"
    }
   ],
   "source": [
    "volume_array.shape"
   ]
  },
  {
   "cell_type": "code",
   "execution_count": null,
   "metadata": {},
   "outputs": [],
   "source": []
  }
 ],
 "metadata": {
  "kernelspec": {
   "display_name": "base",
   "language": "python",
   "name": "python3"
  },
  "language_info": {
   "codemirror_mode": {
    "name": "ipython",
    "version": 3
   },
   "file_extension": ".py",
   "mimetype": "text/x-python",
   "name": "python",
   "nbconvert_exporter": "python",
   "pygments_lexer": "ipython3",
   "version": "3.9.13"
  }
 },
 "nbformat": 4,
 "nbformat_minor": 2
}
